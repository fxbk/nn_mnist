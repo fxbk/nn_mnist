{
 "cells": [
  {
   "cell_type": "code",
   "execution_count": null,
   "metadata": {},
   "outputs": [],
   "source": [
    "#mnist cnn"
   ]
  },
  {
   "cell_type": "code",
   "execution_count": 6,
   "metadata": {},
   "outputs": [],
   "source": [
    "import pandas as pd \n",
    "import numpy as np\n",
    "\n",
    "from sklearn.model_selection import train_test_split\n",
    "from keras.models import Sequential \n",
    "from keras.layers import Dense, Conv2D, Flatten, MaxPool2D, Dropout, SeparableConv2D\n",
    "from keras.datasets import mnist\n",
    "from keras.utils import to_categorical\n",
    "from keras.callbacks import EarlyStopping\n",
    "\n",
    "import matplotlib.pyplot as plt\n",
    "\n"
   ]
  },
  {
   "cell_type": "code",
   "execution_count": 57,
   "metadata": {},
   "outputs": [
    {
     "data": {
      "image/png": "[encoded data removed]",
      "text/plain": [
       "<Figure size 432x288 with 1 Axes>"
      ]
     },
     "metadata": {},
     "output_type": "display_data"
    },
    {
     "name": "stdout",
     "output_type": "stream",
     "text": [
      "5\n",
      "(60000, 28, 28)\n",
      "(60000, 10)\n",
      "(60000, 28, 28, 1)\n"
     ]
    }
   ],
   "source": [
    "#preprocessing\n",
    "(x_train, y_train), (x_test, y_test) = mnist.load_data()\n",
    "plt.imshow(x_train[100])\n",
    "plt.show()\n",
    "print(y_train[100])\n",
    "print(x_train.shape)\n",
    "x_train = x_train.reshape((60000, 28, 28, 1))\n",
    "y_train = to_categorical(y_train)\n",
    "print(y_train.shape)\n",
    "print(x_train.shape)"
   ]
  },
  {
   "cell_type": "code",
   "execution_count": 4,
   "metadata": {},
   "outputs": [
    {
     "name": "stdout",
     "output_type": "stream",
     "text": [
      "Train on 48000 samples, validate on 12000 samples\n",
      "Epoch 1/10\n",
      "48000/48000 [==============================] - 33s 683us/step - loss: 14.4764 - acc: 0.1018 - val_loss: 14.4499 - val_acc: 0.1035\n",
      "Epoch 2/10\n",
      "48000/48000 [==============================] - 33s 679us/step - loss: 14.4764 - acc: 0.1019 - val_loss: 14.4499 - val_acc: 0.1035\n",
      "Epoch 3/10\n",
      "48000/48000 [==============================] - 34s 706us/step - loss: 14.4764 - acc: 0.1019 - val_loss: 14.4499 - val_acc: 0.1035\n",
      "_________________________________________________________________\n",
      "Layer (type)                 Output Shape              Param #   \n",
      "=================================================================\n",
      "conv2d_1 (Conv2D)            (None, 26, 26, 3)         30        \n",
      "_________________________________________________________________\n",
      "flatten_1 (Flatten)          (None, 2028)              0         \n",
      "_________________________________________________________________\n",
      "dense_1 (Dense)              (None, 15)                30435     \n",
      "_________________________________________________________________\n",
      "dense_2 (Dense)              (None, 10)                160       \n",
      "=================================================================\n",
      "Total params: 30,625\n",
      "Trainable params: 30,625\n",
      "Non-trainable params: 0\n",
      "_________________________________________________________________\n"
     ]
    }
   ],
   "source": [
    "# 1. model \n",
    "model = Sequential()\n",
    "earlystopping = EarlyStopping(patience = 2)\n",
    "\n",
    "model.add(Conv2D(3, kernel_size = (3,3), activation = 'relu', input_shape = (28,28,1)))\n",
    "model.add(Flatten())\n",
    "model.add(Dense(15, activation = 'relu'))\n",
    "model.add(Dense(10, activation = 'softmax'))\n",
    "\n",
    "model.compile(optimizer = 'adam', loss = 'categorical_crossentropy', metrics = ['accuracy'])\n",
    "model.fit(x_train, y_train, validation_split = 0.2, epochs = 10,callbacks = [earlystopping])\n",
    "model.summary()"
   ]
  },
  {
   "cell_type": "code",
   "execution_count": 26,
   "metadata": {},
   "outputs": [
    {
     "name": "stdout",
     "output_type": "stream",
     "text": [
      "Train on 48000 samples, validate on 12000 samples\n",
      "Epoch 1/10\n",
      "48000/48000 [==============================] - 62s 1ms/step - loss: 1.1633 - acc: 0.6463 - val_loss: 0.5276 - val_acc: 0.8487\n",
      "Epoch 2/10\n",
      "48000/48000 [==============================] - 60s 1ms/step - loss: 0.2804 - acc: 0.9272 - val_loss: 0.1586 - val_acc: 0.9556\n",
      "Epoch 3/10\n",
      "48000/48000 [==============================] - 61s 1ms/step - loss: 0.1302 - acc: 0.9623 - val_loss: 0.1371 - val_acc: 0.9607\n",
      "Epoch 4/10\n",
      "48000/48000 [==============================] - 61s 1ms/step - loss: 0.0990 - acc: 0.9705 - val_loss: 0.1154 - val_acc: 0.9694\n",
      "Epoch 5/10\n",
      "48000/48000 [==============================] - 61s 1ms/step - loss: 0.0807 - acc: 0.9752 - val_loss: 0.1214 - val_acc: 0.9665\n",
      "Epoch 6/10\n",
      "48000/48000 [==============================] - 66s 1ms/step - loss: 0.0689 - acc: 0.9783 - val_loss: 0.1243 - val_acc: 0.9655\n"
     ]
    },
    {
     "data": {
      "text/plain": [
       "<keras.callbacks.History at 0x1a3c3a4390>"
      ]
     },
     "execution_count": 26,
     "metadata": {},
     "output_type": "execute_result"
    }
   ],
   "source": [
    "# 2. model\n",
    "model = Sequential()\n",
    "earlystopping = EarlyStopping(patience = 2)\n",
    "\n",
    "model.add(Conv2D(3, kernel_size = (3,3), activation = 'relu', input_shape = (28,28,1)))\n",
    "model.add(Conv2D(3, kernel_size = (3,3), activation = 'relu'))\n",
    "model.add(Flatten())\n",
    "model.add(Dense(15,activation = 'relu'))\n",
    "model.add(Dense(10, activation = 'softmax'))\n",
    "\n",
    "model.compile(optimizer = 'adam', loss = 'categorical_crossentropy', metrics = ['accuracy'])\n",
    "model.fit(x_train, y_train, validation_split = 0.2, epochs = 10,callbacks = [earlystopping])\n",
    "model.summary()"
   ]
  },
  {
   "cell_type": "code",
   "execution_count": 29,
   "metadata": {},
   "outputs": [
    {
     "name": "stdout",
     "output_type": "stream",
     "text": [
      "Train on 48000 samples, validate on 12000 samples\n",
      "Epoch 1/10\n",
      "48000/48000 [==============================] - 78s 2ms/step - loss: 1.8735 - acc: 0.7626 - val_loss: 0.2065 - val_acc: 0.9397\n",
      "Epoch 2/10\n",
      "48000/48000 [==============================] - 72s 2ms/step - loss: 0.1681 - acc: 0.9500 - val_loss: 0.1465 - val_acc: 0.9557\n",
      "Epoch 3/10\n",
      "48000/48000 [==============================] - 71s 1ms/step - loss: 0.1173 - acc: 0.9633 - val_loss: 0.1227 - val_acc: 0.9649\n",
      "Epoch 4/10\n",
      "48000/48000 [==============================] - 72s 1ms/step - loss: 0.0910 - acc: 0.9719 - val_loss: 0.1163 - val_acc: 0.9649\n",
      "Epoch 5/10\n",
      "48000/48000 [==============================] - 77s 2ms/step - loss: 0.0773 - acc: 0.9755 - val_loss: 0.1183 - val_acc: 0.9659\n",
      "Epoch 6/10\n",
      "48000/48000 [==============================] - 75s 2ms/step - loss: 0.0648 - acc: 0.9795 - val_loss: 0.1178 - val_acc: 0.9671\n"
     ]
    },
    {
     "data": {
      "text/plain": [
       "<keras.callbacks.History at 0x1a3ca4f8d0>"
      ]
     },
     "execution_count": 29,
     "metadata": {},
     "output_type": "execute_result"
    }
   ],
   "source": [
    "model = Sequential()\n",
    "earlystopping = EarlyStopping(patience = 2)\n",
    "\n",
    "model.add(Conv2D(6, kernel_size = (4,4), activation = 'relu', input_shape = (28,28,1)))\n",
    "model.add(Conv2D(2, kernel_size = (3,3), activation = 'relu'))\n",
    "model.add(Flatten())\n",
    "model.add(Dense(15,activation = 'relu'))\n",
    "model.add(Dense(10, activation = 'softmax'))\n",
    "\n",
    "model.compile(optimizer = 'adam', loss = 'categorical_crossentropy', metrics = ['accuracy'])\n",
    "model.fit(x_train, y_train, validation_split = 0.2, epochs = 10,callbacks = [earlystopping])"
   ]
  },
  {
   "cell_type": "code",
   "execution_count": 30,
   "metadata": {},
   "outputs": [
    {
     "name": "stdout",
     "output_type": "stream",
     "text": [
      "_________________________________________________________________\n",
      "Layer (type)                 Output Shape              Param #   \n",
      "=================================================================\n",
      "conv2d_26 (Conv2D)           (None, 25, 25, 6)         102       \n",
      "_________________________________________________________________\n",
      "conv2d_27 (Conv2D)           (None, 23, 23, 2)         110       \n",
      "_________________________________________________________________\n",
      "flatten_15 (Flatten)         (None, 1058)              0         \n",
      "_________________________________________________________________\n",
      "dense_32 (Dense)             (None, 15)                15885     \n",
      "_________________________________________________________________\n",
      "dense_33 (Dense)             (None, 10)                160       \n",
      "=================================================================\n",
      "Total params: 16,257\n",
      "Trainable params: 16,257\n",
      "Non-trainable params: 0\n",
      "_________________________________________________________________\n"
     ]
    }
   ],
   "source": [
    "model.summary()"
   ]
  },
  {
   "cell_type": "code",
   "execution_count": 35,
   "metadata": {},
   "outputs": [
    {
     "name": "stdout",
     "output_type": "stream",
     "text": [
      "_________________________________________________________________\n",
      "Layer (type)                 Output Shape              Param #   \n",
      "=================================================================\n",
      "conv2d_31 (Conv2D)           (None, 28, 28, 6)         156       \n",
      "_________________________________________________________________\n",
      "conv2d_32 (Conv2D)           (None, 14, 14, 6)         150       \n",
      "_________________________________________________________________\n",
      "flatten_18 (Flatten)         (None, 1176)              0         \n",
      "_________________________________________________________________\n",
      "dense_38 (Dense)             (None, 15)                17655     \n",
      "_________________________________________________________________\n",
      "dense_39 (Dense)             (None, 10)                160       \n",
      "=================================================================\n",
      "Total params: 18,121\n",
      "Trainable params: 18,121\n",
      "Non-trainable params: 0\n",
      "_________________________________________________________________\n",
      "Train on 48000 samples, validate on 12000 samples\n",
      "Epoch 1/10\n",
      "48000/48000 [==============================] - 85s 2ms/step - loss: 0.8710 - acc: 0.7397 - val_loss: 0.2391 - val_acc: 0.9293\n",
      "Epoch 2/10\n",
      "48000/48000 [==============================] - 80s 2ms/step - loss: 0.1706 - acc: 0.9497 - val_loss: 0.1322 - val_acc: 0.9617\n",
      "Epoch 3/10\n",
      "48000/48000 [==============================] - 83s 2ms/step - loss: 0.1079 - acc: 0.9679 - val_loss: 0.1175 - val_acc: 0.9667\n",
      "Epoch 4/10\n",
      "48000/48000 [==============================] - 84s 2ms/step - loss: 0.0815 - acc: 0.9746 - val_loss: 0.1055 - val_acc: 0.9689\n",
      "Epoch 5/10\n",
      "48000/48000 [==============================] - 82s 2ms/step - loss: 0.0655 - acc: 0.9804 - val_loss: 0.0930 - val_acc: 0.9738\n",
      "Epoch 6/10\n",
      "48000/48000 [==============================] - 78s 2ms/step - loss: 0.0551 - acc: 0.9823 - val_loss: 0.0959 - val_acc: 0.9724\n",
      "Epoch 7/10\n",
      "48000/48000 [==============================] - 76s 2ms/step - loss: 0.0496 - acc: 0.9840 - val_loss: 0.0963 - val_acc: 0.9753\n"
     ]
    },
    {
     "data": {
      "text/plain": [
       "<keras.callbacks.History at 0x1a3fc1d5f8>"
      ]
     },
     "execution_count": 35,
     "metadata": {},
     "output_type": "execute_result"
    }
   ],
   "source": [
    "# 3. model \n",
    "model = Sequential()\n",
    "earlystopping = EarlyStopping(patience = 2)\n",
    "\n",
    "model.add(Conv2D(6, kernel_size = (5,5), padding = 'same', activation = 'relu', input_shape = (28,28,1)))\n",
    "model.add(Conv2D(6, kernel_size = (2,2), strides = 2, activation = 'relu'))\n",
    "model.add(Flatten())\n",
    "model.add(Dense(15,activation = 'relu'))\n",
    "model.add(Dense(10, activation = 'softmax'))\n",
    "model.summary()\n",
    "model.compile(optimizer = 'adam', loss = 'categorical_crossentropy', metrics = ['accuracy'])\n",
    "model.fit(x_train, y_train, validation_split = 0.2, epochs = 10,callbacks = [earlystopping])\n"
   ]
  },
  {
   "cell_type": "code",
   "execution_count": 36,
   "metadata": {},
   "outputs": [
    {
     "name": "stdout",
     "output_type": "stream",
     "text": [
      "_________________________________________________________________\n",
      "Layer (type)                 Output Shape              Param #   \n",
      "=================================================================\n",
      "conv2d_33 (Conv2D)           (None, 28, 28, 6)         156       \n",
      "_________________________________________________________________\n",
      "conv2d_34 (Conv2D)           (None, 14, 14, 6)         150       \n",
      "_________________________________________________________________\n",
      "conv2d_35 (Conv2D)           (None, 10, 10, 10)        1510      \n",
      "_________________________________________________________________\n",
      "conv2d_36 (Conv2D)           (None, 5, 5, 6)           246       \n",
      "_________________________________________________________________\n",
      "flatten_19 (Flatten)         (None, 150)               0         \n",
      "_________________________________________________________________\n",
      "dense_40 (Dense)             (None, 120)               18120     \n",
      "_________________________________________________________________\n",
      "dense_41 (Dense)             (None, 84)                10164     \n",
      "_________________________________________________________________\n",
      "dense_42 (Dense)             (None, 10)                850       \n",
      "=================================================================\n",
      "Total params: 31,196\n",
      "Trainable params: 31,196\n",
      "Non-trainable params: 0\n",
      "_________________________________________________________________\n",
      "Train on 48000 samples, validate on 12000 samples\n",
      "Epoch 1/10\n",
      "48000/48000 [==============================] - 123s 3ms/step - loss: 0.3141 - acc: 0.9052 - val_loss: 0.1559 - val_acc: 0.9516\n",
      "Epoch 2/10\n",
      "48000/48000 [==============================] - 117s 2ms/step - loss: 0.0990 - acc: 0.9693 - val_loss: 0.0971 - val_acc: 0.9715\n",
      "Epoch 3/10\n",
      "48000/48000 [==============================] - 113s 2ms/step - loss: 0.0706 - acc: 0.9778 - val_loss: 0.0817 - val_acc: 0.9763\n",
      "Epoch 4/10\n",
      "48000/48000 [==============================] - 114s 2ms/step - loss: 0.0603 - acc: 0.9811 - val_loss: 0.0837 - val_acc: 0.9758\n",
      "Epoch 5/10\n",
      "48000/48000 [==============================] - 113s 2ms/step - loss: 0.0521 - acc: 0.9834 - val_loss: 0.0876 - val_acc: 0.9758\n"
     ]
    },
    {
     "data": {
      "text/plain": [
       "<keras.callbacks.History at 0x1a402a56a0>"
      ]
     },
     "execution_count": 36,
     "metadata": {},
     "output_type": "execute_result"
    }
   ],
   "source": [
    "# 4. model\n",
    "model = Sequential()\n",
    "earlystopping = EarlyStopping(patience = 2)\n",
    "\n",
    "model.add(Conv2D(6, kernel_size = (5,5), padding = 'same', activation = 'relu', input_shape = (28,28,1)))\n",
    "model.add(Conv2D(6, kernel_size = (2,2), strides = 2, activation = 'relu'))\n",
    "model.add(Conv2D(10, kernel_size = (5,5), activation = 'relu'))\n",
    "model.add(Conv2D(6, kernel_size = (2,2), strides = 2, activation = 'relu'))\n",
    "model.add(Flatten())\n",
    "model.add(Dense(120,activation = 'relu'))\n",
    "model.add(Dense(84,activation = 'relu'))\n",
    "model.add(Dense(10, activation = 'softmax'))\n",
    "model.summary()\n",
    "model.compile(optimizer = 'adam', loss = 'categorical_crossentropy', metrics = ['accuracy'])\n",
    "model.fit(x_train, y_train, validation_split = 0.2, epochs = 10,callbacks = [earlystopping])\n",
    "\n"
   ]
  },
  {
   "cell_type": "code",
   "execution_count": 37,
   "metadata": {},
   "outputs": [
    {
     "name": "stdout",
     "output_type": "stream",
     "text": [
      "_________________________________________________________________\n",
      "Layer (type)                 Output Shape              Param #   \n",
      "=================================================================\n",
      "conv2d_37 (Conv2D)           (None, 28, 28, 6)         156       \n",
      "_________________________________________________________________\n",
      "conv2d_38 (Conv2D)           (None, 14, 14, 6)         150       \n",
      "_________________________________________________________________\n",
      "conv2d_39 (Conv2D)           (None, 10, 10, 16)        2416      \n",
      "_________________________________________________________________\n",
      "conv2d_40 (Conv2D)           (None, 5, 5, 16)          1040      \n",
      "_________________________________________________________________\n",
      "flatten_20 (Flatten)         (None, 400)               0         \n",
      "_________________________________________________________________\n",
      "dense_43 (Dense)             (None, 120)               48120     \n",
      "_________________________________________________________________\n",
      "dense_44 (Dense)             (None, 84)                10164     \n",
      "_________________________________________________________________\n",
      "dense_45 (Dense)             (None, 10)                850       \n",
      "=================================================================\n",
      "Total params: 62,896\n",
      "Trainable params: 62,896\n",
      "Non-trainable params: 0\n",
      "_________________________________________________________________\n",
      "Train on 48000 samples, validate on 12000 samples\n",
      "Epoch 1/10\n",
      "48000/48000 [==============================] - 139s 3ms/step - loss: 0.2582 - acc: 0.9205 - val_loss: 0.1082 - val_acc: 0.9657\n",
      "Epoch 2/10\n",
      "48000/48000 [==============================] - 136s 3ms/step - loss: 0.0802 - acc: 0.9759 - val_loss: 0.0688 - val_acc: 0.9782\n",
      "Epoch 3/10\n",
      "48000/48000 [==============================] - 137s 3ms/step - loss: 0.0608 - acc: 0.9808 - val_loss: 0.0626 - val_acc: 0.9808\n",
      "Epoch 4/10\n",
      "48000/48000 [==============================] - 136s 3ms/step - loss: 0.0488 - acc: 0.9840 - val_loss: 0.0578 - val_acc: 0.9820\n",
      "Epoch 5/10\n",
      "48000/48000 [==============================] - 136s 3ms/step - loss: 0.0428 - acc: 0.9866 - val_loss: 0.0621 - val_acc: 0.9832\n",
      "Epoch 6/10\n",
      "48000/48000 [==============================] - 136s 3ms/step - loss: 0.0384 - acc: 0.9876 - val_loss: 0.0682 - val_acc: 0.9810\n"
     ]
    },
    {
     "data": {
      "text/plain": [
       "<keras.callbacks.History at 0x1a41200ba8>"
      ]
     },
     "execution_count": 37,
     "metadata": {},
     "output_type": "execute_result"
    }
   ],
   "source": [
    "# 5. model\n",
    "model = Sequential()\n",
    "earlystopping = EarlyStopping(patience = 2)\n",
    "\n",
    "model.add(Conv2D(6, kernel_size = (5,5), padding = 'same', activation = 'relu', input_shape = (28,28,1)))\n",
    "model.add(Conv2D(6, kernel_size = (2,2), strides = 2, activation = 'relu'))\n",
    "model.add(Conv2D(16, kernel_size = (5,5), activation = 'relu'))\n",
    "model.add(Conv2D(16, kernel_size = (2,2), strides = 2, activation = 'relu'))\n",
    "model.add(Flatten())\n",
    "model.add(Dense(120,activation = 'relu'))\n",
    "model.add(Dense(84,activation = 'relu'))\n",
    "model.add(Dense(10, activation = 'softmax'))\n",
    "model.summary()\n",
    "model.compile(optimizer = 'adam', loss = 'categorical_crossentropy', metrics = ['accuracy'])\n",
    "model.fit(x_train, y_train, validation_split = 0.2, epochs = 10,callbacks = [earlystopping])\n",
    "\n",
    "\n"
   ]
  },
  {
   "cell_type": "code",
   "execution_count": 38,
   "metadata": {},
   "outputs": [
    {
     "name": "stdout",
     "output_type": "stream",
     "text": [
      "_________________________________________________________________\n",
      "Layer (type)                 Output Shape              Param #   \n",
      "=================================================================\n",
      "conv2d_41 (Conv2D)           (None, 28, 28, 6)         156       \n",
      "_________________________________________________________________\n",
      "conv2d_42 (Conv2D)           (None, 14, 14, 6)         150       \n",
      "_________________________________________________________________\n",
      "conv2d_43 (Conv2D)           (None, 10, 10, 16)        2416      \n",
      "_________________________________________________________________\n",
      "dropout_4 (Dropout)          (None, 10, 10, 16)        0         \n",
      "_________________________________________________________________\n",
      "conv2d_44 (Conv2D)           (None, 5, 5, 16)          1040      \n",
      "_________________________________________________________________\n",
      "flatten_21 (Flatten)         (None, 400)               0         \n",
      "_________________________________________________________________\n",
      "dense_46 (Dense)             (None, 120)               48120     \n",
      "_________________________________________________________________\n",
      "dense_47 (Dense)             (None, 84)                10164     \n",
      "_________________________________________________________________\n",
      "dense_48 (Dense)             (None, 10)                850       \n",
      "=================================================================\n",
      "Total params: 62,896\n",
      "Trainable params: 62,896\n",
      "Non-trainable params: 0\n",
      "_________________________________________________________________\n",
      "Train on 48000 samples, validate on 12000 samples\n",
      "Epoch 1/10\n",
      "48000/48000 [==============================] - 154s 3ms/step - loss: 0.3532 - acc: 0.9037 - val_loss: 0.1140 - val_acc: 0.9666\n",
      "Epoch 2/10\n",
      "48000/48000 [==============================] - 143s 3ms/step - loss: 0.1064 - acc: 0.9671 - val_loss: 0.0863 - val_acc: 0.9761\n",
      "Epoch 3/10\n",
      "48000/48000 [==============================] - 144s 3ms/step - loss: 0.0786 - acc: 0.9755 - val_loss: 0.0692 - val_acc: 0.9802\n",
      "Epoch 4/10\n",
      "48000/48000 [==============================] - 145s 3ms/step - loss: 0.0652 - acc: 0.9795 - val_loss: 0.0611 - val_acc: 0.9815\n",
      "Epoch 5/10\n",
      "48000/48000 [==============================] - 143s 3ms/step - loss: 0.0542 - acc: 0.9825 - val_loss: 0.0672 - val_acc: 0.9805\n",
      "Epoch 6/10\n",
      "48000/48000 [==============================] - 143s 3ms/step - loss: 0.0480 - acc: 0.9847 - val_loss: 0.0582 - val_acc: 0.9831\n",
      "Epoch 7/10\n",
      "48000/48000 [==============================] - 144s 3ms/step - loss: 0.0438 - acc: 0.9861 - val_loss: 0.0774 - val_acc: 0.9788\n",
      "Epoch 8/10\n",
      "48000/48000 [==============================] - 144s 3ms/step - loss: 0.0390 - acc: 0.9883 - val_loss: 0.0500 - val_acc: 0.9856\n",
      "Epoch 9/10\n",
      "48000/48000 [==============================] - 154s 3ms/step - loss: 0.0327 - acc: 0.9896 - val_loss: 0.0535 - val_acc: 0.9862\n",
      "Epoch 10/10\n",
      "48000/48000 [==============================] - 148s 3ms/step - loss: 0.0345 - acc: 0.9892 - val_loss: 0.0548 - val_acc: 0.9842\n"
     ]
    },
    {
     "data": {
      "text/plain": [
       "<keras.callbacks.History at 0x1a41defba8>"
      ]
     },
     "execution_count": 38,
     "metadata": {},
     "output_type": "execute_result"
    }
   ],
   "source": [
    "# 6.model\n",
    "model = Sequential()\n",
    "earlystopping = EarlyStopping(patience = 2)\n",
    "\n",
    "model.add(Conv2D(6, kernel_size = (5,5), padding = 'same', activation = 'relu', input_shape = (28,28,1)))\n",
    "model.add(Conv2D(6, kernel_size = (2,2), strides = 2, activation = 'relu'))\n",
    "model.add(Conv2D(16, kernel_size = (5,5), activation = 'relu'))\n",
    "model.add(Dropout(0.1))\n",
    "model.add(Conv2D(16, kernel_size = (2,2), strides = 2, activation = 'relu'))\n",
    "model.add(Flatten())\n",
    "model.add(Dense(120,activation = 'relu'))\n",
    "model.add(Dense(84,activation = 'relu'))\n",
    "model.add(Dense(10, activation = 'softmax'))\n",
    "model.summary()\n",
    "model.compile(optimizer = 'adam', loss = 'categorical_crossentropy', metrics = ['accuracy'])\n",
    "model.fit(x_train, y_train, validation_split = 0.2, epochs = 10,callbacks = [earlystopping])\n"
   ]
  },
  {
   "cell_type": "code",
   "execution_count": 32,
   "metadata": {},
   "outputs": [
    {
     "name": "stdout",
     "output_type": "stream",
     "text": [
      "_________________________________________________________________\n",
      "Layer (type)                 Output Shape              Param #   \n",
      "=================================================================\n",
      "conv2d_10 (Conv2D)           (None, 28, 28, 6)         156       \n",
      "_________________________________________________________________\n",
      "conv2d_11 (Conv2D)           (None, 14, 14, 6)         150       \n",
      "_________________________________________________________________\n",
      "conv2d_12 (Conv2D)           (None, 10, 10, 16)        2416      \n",
      "_________________________________________________________________\n",
      "dropout_3 (Dropout)          (None, 10, 10, 16)        0         \n",
      "_________________________________________________________________\n",
      "conv2d_13 (Conv2D)           (None, 5, 5, 16)          1040      \n",
      "_________________________________________________________________\n",
      "flatten_4 (Flatten)          (None, 400)               0         \n",
      "_________________________________________________________________\n",
      "dense_9 (Dense)              (None, 120)               48120     \n",
      "_________________________________________________________________\n",
      "dense_10 (Dense)             (None, 84)                10164     \n",
      "_________________________________________________________________\n",
      "dense_11 (Dense)             (None, 10)                850       \n",
      "=================================================================\n",
      "Total params: 62,896\n",
      "Trainable params: 62,896\n",
      "Non-trainable params: 0\n",
      "_________________________________________________________________\n",
      "Epoch 1/10\n",
      "60000/60000 [==============================] - 172s 3ms/step - loss: 0.4887 - acc: 0.8843\n",
      "Epoch 2/10\n",
      "   64/60000 [..............................] - ETA: 2:50 - loss: 0.1582 - acc: 0.9688"
     ]
    },
    {
     "name": "stderr",
     "output_type": "stream",
     "text": [
      "/Users/felixbok/anaconda3/lib/python3.6/site-packages/keras/callbacks.py:535: RuntimeWarning: Early stopping conditioned on metric `val_loss` which is not available. Available metrics are: loss,acc\n",
      "  (self.monitor, ','.join(list(logs.keys()))), RuntimeWarning\n"
     ]
    },
    {
     "name": "stdout",
     "output_type": "stream",
     "text": [
      "60000/60000 [==============================] - 167s 3ms/step - loss: 0.1075 - acc: 0.9671\n",
      "Epoch 3/10\n",
      "60000/60000 [==============================] - 168s 3ms/step - loss: 0.0802 - acc: 0.9755\n",
      "Epoch 4/10\n",
      "60000/60000 [==============================] - 167s 3ms/step - loss: 0.0672 - acc: 0.9794\n",
      "Epoch 5/10\n",
      "60000/60000 [==============================] - 168s 3ms/step - loss: 0.0578 - acc: 0.9821\n",
      "Epoch 6/10\n",
      "60000/60000 [==============================] - 168s 3ms/step - loss: 0.0497 - acc: 0.9846\n",
      "Epoch 7/10\n",
      "60000/60000 [==============================] - 169s 3ms/step - loss: 0.0470 - acc: 0.9855\n",
      "Epoch 8/10\n",
      "60000/60000 [==============================] - 167s 3ms/step - loss: 0.0439 - acc: 0.9861\n",
      "Epoch 9/10\n",
      "60000/60000 [==============================] - 167s 3ms/step - loss: 0.0400 - acc: 0.9876\n",
      "Epoch 10/10\n",
      "60000/60000 [==============================] - 168s 3ms/step - loss: 0.0384 - acc: 0.9882\n"
     ]
    }
   ],
   "source": [
    "# 7. model\n",
    "model = Sequential()\n",
    "earlystopping = EarlyStopping(patience = 2)\n",
    "\n",
    "model.add(Conv2D(6, kernel_size = (5,5), padding = 'same', activation = 'relu', input_shape = (28,28,1)))\n",
    "model.add(Conv2D(6, kernel_size = (2,2), strides = 2, activation = 'relu'))\n",
    "model.add(Conv2D(16, kernel_size = (5,5), activation = 'relu'))\n",
    "model.add(Dropout(0.3))\n",
    "model.add(Conv2D(16, kernel_size = (2,2), strides = 2, activation = 'relu'))\n",
    "model.add(Flatten())\n",
    "model.add(Dense(120,activation = 'relu'))\n",
    "model.add(Dense(84,activation = 'relu'))\n",
    "model.add(Dense(10, activation = 'softmax'))\n",
    "model.summary()\n",
    "model.compile(optimizer = 'adam', loss = 'categorical_crossentropy', metrics = ['accuracy'])\n",
    "model.fit(x_train, y_train, epochs = 10,callbacks = [earlystopping])\n",
    "model.save_weights('cnn_mnist_acc98.hdf5')"
   ]
  },
  {
   "cell_type": "code",
   "execution_count": 46,
   "metadata": {},
   "outputs": [
    {
     "name": "stdout",
     "output_type": "stream",
     "text": [
      "(10000, 28, 28)\n",
      "10000/10000 [==============================] - 9s 900us/step\n"
     ]
    },
    {
     "data": {
      "text/plain": [
       "[0.029937205662041378, 0.9898]"
      ]
     },
     "execution_count": 46,
     "metadata": {},
     "output_type": "execute_result"
    }
   ],
   "source": [
    "# evaluation 7. model\n",
    "print(x_test.shape)\n",
    "x_test = x_test.reshape(10000, 28,28,1)\n",
    "y_test = to_categorical(y_test)\n",
    "model.evaluate(x_test, y_test)"
   ]
  },
  {
   "cell_type": "code",
   "execution_count": 70,
   "metadata": {
    "scrolled": true
   },
   "outputs": [
    {
     "name": "stdout",
     "output_type": "stream",
     "text": [
      "[[9.9999988e-01 4.8390358e-11 1.8054707e-09 2.2905121e-11 1.9502588e-09\n",
      "  4.2859607e-08 5.5724460e-08 3.8688334e-11 8.4746254e-09 1.3440248e-07]]\n",
      "0\n"
     ]
    }
   ],
   "source": [
    "# predict 7. model \n",
    "x_test1 = x_test[101].reshape(1,28,28,1)\n",
    "print(model.predict(x_test1))\n",
    "print(y_test[101])"
   ]
  }
 ],
 "metadata": {
  "kernelspec": {
   "display_name": "Python 3",
   "language": "python",
   "name": "python3"
  },
  "language_info": {
   "codemirror_mode": {
    "name": "ipython",
    "version": 3
   },
   "file_extension": ".py",
   "mimetype": "text/x-python",
   "name": "python",
   "nbconvert_exporter": "python",
   "pygments_lexer": "ipython3",
   "version": "3.6.5"
  }
 },
 "nbformat": 4,
 "nbformat_minor": 2
}
